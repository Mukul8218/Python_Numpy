{
  "nbformat": 4,
  "nbformat_minor": 0,
  "metadata": {
    "colab": {
      "provenance": []
    },
    "kernelspec": {
      "name": "python3",
      "display_name": "Python 3"
    },
    "language_info": {
      "name": "python"
    }
  },
  "cells": [
    {
      "cell_type": "markdown",
      "source": [
        "# Python Numpy"
      ],
      "metadata": {
        "id": "ZtkvF12gNnP7"
      }
    },
    {
      "cell_type": "code",
      "source": [
        "import numpy as np"
      ],
      "metadata": {
        "id": "ek1Zi4_CNsR6"
      },
      "execution_count": null,
      "outputs": []
    },
    {
      "cell_type": "markdown",
      "source": [
        "#creating array"
      ],
      "metadata": {
        "id": "4i88UFpANyBM"
      }
    },
    {
      "cell_type": "code",
      "source": [
        "arr0d = np.array(24)    #0-D\n",
        "arr0d"
      ],
      "metadata": {
        "colab": {
          "base_uri": "https://localhost:8080/"
        },
        "id": "b7QGHHpqN6i2",
        "outputId": "a4b7359b-24c5-46e3-96b4-d468a5dabff7"
      },
      "execution_count": null,
      "outputs": [
        {
          "output_type": "execute_result",
          "data": {
            "text/plain": [
              "array(24)"
            ]
          },
          "metadata": {},
          "execution_count": 4
        }
      ]
    },
    {
      "cell_type": "code",
      "source": [
        "arr1d = np.array([1,2,3,4,5])  #1-D\n",
        "arr1d"
      ],
      "metadata": {
        "colab": {
          "base_uri": "https://localhost:8080/"
        },
        "id": "4rHqWHcHOD4R",
        "outputId": "fcc483f5-001d-46a6-dece-f7320bf34b58"
      },
      "execution_count": null,
      "outputs": [
        {
          "output_type": "execute_result",
          "data": {
            "text/plain": [
              "array([1, 2, 3, 4, 5])"
            ]
          },
          "metadata": {},
          "execution_count": 5
        }
      ]
    },
    {
      "cell_type": "code",
      "source": [
        "arr2d = np.array(([1,2],[3,4]))  #2-D\n",
        "arr2d"
      ],
      "metadata": {
        "colab": {
          "base_uri": "https://localhost:8080/"
        },
        "id": "85zsU5R0OSns",
        "outputId": "01a524bb-7cb2-4b2d-cd05-da08d55baff8"
      },
      "execution_count": null,
      "outputs": [
        {
          "output_type": "execute_result",
          "data": {
            "text/plain": [
              "array([[1, 2],\n",
              "       [3, 4]])"
            ]
          },
          "metadata": {},
          "execution_count": 7
        }
      ]
    },
    {
      "cell_type": "code",
      "source": [
        "arr3d = np.array([[[2,5],[6,8]],[[10,11],[34,99]]])\n",
        "arr3d"
      ],
      "metadata": {
        "colab": {
          "base_uri": "https://localhost:8080/"
        },
        "id": "ztK8gZblOeYm",
        "outputId": "2cf372ed-b7f4-49f3-8333-1394895c6565"
      },
      "execution_count": null,
      "outputs": [
        {
          "output_type": "execute_result",
          "data": {
            "text/plain": [
              "array([[[ 2,  5],\n",
              "        [ 6,  8]],\n",
              "\n",
              "       [[10, 11],\n",
              "        [34, 99]]])"
            ]
          },
          "metadata": {},
          "execution_count": 9
        }
      ]
    },
    {
      "cell_type": "markdown",
      "source": [
        "# Dimension\n",
        "is the deapth of an array"
      ],
      "metadata": {
        "id": "tPrzX0ChPBC1"
      }
    },
    {
      "cell_type": "markdown",
      "source": [
        "#Numpy Attributes"
      ],
      "metadata": {
        "id": "FkAJrMAqPQLo"
      }
    },
    {
      "cell_type": "code",
      "source": [
        "# shape\n",
        "arr0d.shape, arr1d.shape, arr2d.shape, arr3d.shape"
      ],
      "metadata": {
        "colab": {
          "base_uri": "https://localhost:8080/"
        },
        "id": "k8NSsW-1PptE",
        "outputId": "84cbc122-f5cf-422f-839b-0b858498cf18"
      },
      "execution_count": null,
      "outputs": [
        {
          "output_type": "execute_result",
          "data": {
            "text/plain": [
              "((), (5,), (2, 2), (2, 2, 2))"
            ]
          },
          "metadata": {},
          "execution_count": 10
        }
      ]
    },
    {
      "cell_type": "code",
      "source": [
        "# size\n",
        "print(arr1d.size)\n",
        "print(arr3d.size)"
      ],
      "metadata": {
        "colab": {
          "base_uri": "https://localhost:8080/"
        },
        "id": "qxesvzyjP30X",
        "outputId": "b94d7020-9d5c-4c2c-bb6d-0e4bf2678e91"
      },
      "execution_count": null,
      "outputs": [
        {
          "output_type": "stream",
          "name": "stdout",
          "text": [
            "5\n",
            "8\n"
          ]
        }
      ]
    },
    {
      "cell_type": "code",
      "source": [
        "# dtpye\n",
        "\n",
        "print(arr1d.dtype)\n",
        "print(arr3d.dtype)"
      ],
      "metadata": {
        "colab": {
          "base_uri": "https://localhost:8080/"
        },
        "id": "f_tjrC3JQEsr",
        "outputId": "1fbf7b5b-e157-4f9e-dc4e-4792b0a7462b"
      },
      "execution_count": null,
      "outputs": [
        {
          "output_type": "stream",
          "name": "stdout",
          "text": [
            "int64\n",
            "int64\n"
          ]
        }
      ]
    },
    {
      "cell_type": "code",
      "source": [
        "# ndim\n",
        "print(arr3d.ndim)"
      ],
      "metadata": {
        "colab": {
          "base_uri": "https://localhost:8080/"
        },
        "id": "q7Xdp_V-QOq8",
        "outputId": "2b333372-1e83-4db8-a9d0-7f844fc74939"
      },
      "execution_count": null,
      "outputs": [
        {
          "output_type": "stream",
          "name": "stdout",
          "text": [
            "3\n"
          ]
        }
      ]
    },
    {
      "cell_type": "markdown",
      "source": [
        "# Numpy stores same type of data i.e.,it is homogeneous in nature"
      ],
      "metadata": {
        "id": "YhS8o1FnQVda"
      }
    },
    {
      "cell_type": "code",
      "source": [
        "arr = np.array([10,45.6,80,98,100,\"Apple\"])\n",
        "arr"
      ],
      "metadata": {
        "colab": {
          "base_uri": "https://localhost:8080/"
        },
        "id": "I9Zo-4Q3QqgX",
        "outputId": "3fb61269-813d-4bf2-afc9-b533ebce34be"
      },
      "execution_count": null,
      "outputs": [
        {
          "output_type": "execute_result",
          "data": {
            "text/plain": [
              "array(['10', '45.6', '80', '98', '100', 'Apple'], dtype='<U32')"
            ]
          },
          "metadata": {},
          "execution_count": 14
        }
      ]
    },
    {
      "cell_type": "code",
      "source": [
        "arr = np.array([10,45.6,80,98,100,0], dtype=bool)\n",
        "arr"
      ],
      "metadata": {
        "colab": {
          "base_uri": "https://localhost:8080/"
        },
        "id": "MGsZLrXlQ7gJ",
        "outputId": "0de6dba1-c011-4752-f6c9-847fac408ce0"
      },
      "execution_count": null,
      "outputs": [
        {
          "output_type": "execute_result",
          "data": {
            "text/plain": [
              "array([ True,  True,  True,  True,  True, False])"
            ]
          },
          "metadata": {},
          "execution_count": 15
        }
      ]
    },
    {
      "cell_type": "code",
      "source": [
        "arr = np.array([10,45.6,80,98,100,0], dtype=str)\n",
        "arr"
      ],
      "metadata": {
        "colab": {
          "base_uri": "https://localhost:8080/"
        },
        "id": "CZOuKg7bRTaR",
        "outputId": "e7682d42-c744-4994-cec8-a774564b011c"
      },
      "execution_count": null,
      "outputs": [
        {
          "output_type": "execute_result",
          "data": {
            "text/plain": [
              "array(['10', '45.6', '80', '98', '100', '0'], dtype='<U4')"
            ]
          },
          "metadata": {},
          "execution_count": 17
        }
      ]
    },
    {
      "cell_type": "code",
      "source": [
        "np.array([10,45,41,29,87], dtype='int8')"
      ],
      "metadata": {
        "colab": {
          "base_uri": "https://localhost:8080/"
        },
        "id": "Znbg7oNNRpIg",
        "outputId": "0b4e2be4-4ef6-4739-f948-c66eba0b3d86"
      },
      "execution_count": null,
      "outputs": [
        {
          "output_type": "execute_result",
          "data": {
            "text/plain": [
              "array([10, 45, 41, 29, 87], dtype=int8)"
            ]
          },
          "metadata": {},
          "execution_count": 18
        }
      ]
    },
    {
      "cell_type": "code",
      "source": [
        "np.array([10,45,41,29,127,-128],dtype='int8')  # signed integers"
      ],
      "metadata": {
        "colab": {
          "base_uri": "https://localhost:8080/"
        },
        "id": "SKVISTdcR4_W",
        "outputId": "6885d678-9373-40f6-d8f3-09ec918c8dcf"
      },
      "execution_count": null,
      "outputs": [
        {
          "output_type": "execute_result",
          "data": {
            "text/plain": [
              "array([  10,   45,   41,   29,  127, -128], dtype=int8)"
            ]
          },
          "metadata": {},
          "execution_count": 19
        }
      ]
    },
    {
      "cell_type": "code",
      "source": [
        "np.array([10,45,41,29,127,255], dtype='uint8')     # unsigned integers"
      ],
      "metadata": {
        "colab": {
          "base_uri": "https://localhost:8080/"
        },
        "id": "vF7_UKRDSWY6",
        "outputId": "ac4e37e6-39cd-45ec-9b2d-f1cc86a48ed1"
      },
      "execution_count": null,
      "outputs": [
        {
          "output_type": "execute_result",
          "data": {
            "text/plain": [
              "array([ 10,  45,  41,  29, 127, 255], dtype=uint8)"
            ]
          },
          "metadata": {},
          "execution_count": 20
        }
      ]
    },
    {
      "cell_type": "markdown",
      "source": [
        "# Indexing and Slicing"
      ],
      "metadata": {
        "id": "I-zvXxppSj4t"
      }
    },
    {
      "cell_type": "code",
      "source": [
        "arr = np.array([1,2,3,4,5])   # start:end:stop\n",
        "arr"
      ],
      "metadata": {
        "colab": {
          "base_uri": "https://localhost:8080/"
        },
        "id": "pSr9XgIZStUh",
        "outputId": "084119b6-2fb5-4dd6-fb09-4447afbb4ac6"
      },
      "execution_count": null,
      "outputs": [
        {
          "output_type": "execute_result",
          "data": {
            "text/plain": [
              "array([1, 2, 3, 4, 5])"
            ]
          },
          "metadata": {},
          "execution_count": 21
        }
      ]
    },
    {
      "cell_type": "code",
      "source": [
        "arr[0], arr[-1]"
      ],
      "metadata": {
        "colab": {
          "base_uri": "https://localhost:8080/"
        },
        "id": "tzOA6At4Sz5K",
        "outputId": "0def115b-f242-40d7-d6ff-7c64984d34e6"
      },
      "execution_count": null,
      "outputs": [
        {
          "output_type": "execute_result",
          "data": {
            "text/plain": [
              "(np.int64(1), np.int64(5))"
            ]
          },
          "metadata": {},
          "execution_count": 22
        }
      ]
    },
    {
      "cell_type": "code",
      "source": [
        "arr[1:4]"
      ],
      "metadata": {
        "colab": {
          "base_uri": "https://localhost:8080/"
        },
        "id": "qpTogXUaS3oP",
        "outputId": "384efb84-5b36-4df9-c4bf-c98820691934"
      },
      "execution_count": null,
      "outputs": [
        {
          "output_type": "execute_result",
          "data": {
            "text/plain": [
              "array([2, 3, 4])"
            ]
          },
          "metadata": {},
          "execution_count": 23
        }
      ]
    },
    {
      "cell_type": "code",
      "source": [
        "#### 2-D array\n",
        "\n",
        "arr = np.array([[1,2,3,4,5],[6,7,8,9,10],[10,0,1,100,8],[1,1,7,3,9]])\n",
        "arr\n"
      ],
      "metadata": {
        "colab": {
          "base_uri": "https://localhost:8080/"
        },
        "id": "ELlGnT8-S9E7",
        "outputId": "bfe554b7-637a-4da6-a149-804e66bd483a"
      },
      "execution_count": null,
      "outputs": [
        {
          "output_type": "execute_result",
          "data": {
            "text/plain": [
              "array([[  1,   2,   3,   4,   5],\n",
              "       [  6,   7,   8,   9,  10],\n",
              "       [ 10,   0,   1, 100,   8],\n",
              "       [  1,   1,   7,   3,   9]])"
            ]
          },
          "metadata": {},
          "execution_count": 24
        }
      ]
    },
    {
      "cell_type": "code",
      "source": [
        "arr[2][3]"
      ],
      "metadata": {
        "colab": {
          "base_uri": "https://localhost:8080/"
        },
        "id": "AiA3PofcTX8q",
        "outputId": "7de4c76d-1048-4684-a614-eb8343a5ac6f"
      },
      "execution_count": null,
      "outputs": [
        {
          "output_type": "execute_result",
          "data": {
            "text/plain": [
              "np.int64(100)"
            ]
          },
          "metadata": {},
          "execution_count": 25
        }
      ]
    },
    {
      "cell_type": "code",
      "source": [
        "arr[2,3]"
      ],
      "metadata": {
        "colab": {
          "base_uri": "https://localhost:8080/"
        },
        "id": "1CceM9SoToTu",
        "outputId": "c4ed060d-110e-4638-886c-4269a57a1c49"
      },
      "execution_count": null,
      "outputs": [
        {
          "output_type": "execute_result",
          "data": {
            "text/plain": [
              "np.int64(100)"
            ]
          },
          "metadata": {},
          "execution_count": 26
        }
      ]
    },
    {
      "cell_type": "code",
      "source": [
        "arr[0::2,0:]"
      ],
      "metadata": {
        "colab": {
          "base_uri": "https://localhost:8080/"
        },
        "id": "LepOP1L-TtJB",
        "outputId": "c5fc11d4-5f4f-4f9d-86bb-c617516c1812"
      },
      "execution_count": null,
      "outputs": [
        {
          "output_type": "execute_result",
          "data": {
            "text/plain": [
              "array([[  1,   2,   3,   4,   5],\n",
              "       [ 10,   0,   1, 100,   8]])"
            ]
          },
          "metadata": {},
          "execution_count": 27
        }
      ]
    },
    {
      "cell_type": "code",
      "source": [
        "arr[0::2,0::2]"
      ],
      "metadata": {
        "colab": {
          "base_uri": "https://localhost:8080/"
        },
        "id": "siHF1RbvT362",
        "outputId": "6e3bdcb6-310c-48f6-c86c-c14828467bd8"
      },
      "execution_count": null,
      "outputs": [
        {
          "output_type": "execute_result",
          "data": {
            "text/plain": [
              "array([[ 1,  3,  5],\n",
              "       [10,  1,  8]])"
            ]
          },
          "metadata": {},
          "execution_count": 28
        }
      ]
    },
    {
      "cell_type": "code",
      "source": [
        "arr"
      ],
      "metadata": {
        "colab": {
          "base_uri": "https://localhost:8080/"
        },
        "id": "7Otvmf0oUJEK",
        "outputId": "ef43ea35-8998-42a1-f32f-8dae97cf2c24"
      },
      "execution_count": null,
      "outputs": [
        {
          "output_type": "execute_result",
          "data": {
            "text/plain": [
              "array([[  1,   2,   3,   4,   5],\n",
              "       [  6,   7,   8,   9,  10],\n",
              "       [ 10,   0,   1, 100,   8],\n",
              "       [  1,   1,   7,   3,   9]])"
            ]
          },
          "metadata": {},
          "execution_count": 31
        }
      ]
    },
    {
      "cell_type": "code",
      "source": [
        "# get the corner values in all size of array\n",
        "\n",
        "arr[[0,0,-1,-1],[0,-1,0,-1]]"
      ],
      "metadata": {
        "colab": {
          "base_uri": "https://localhost:8080/"
        },
        "id": "OQKnH6bmUVuv",
        "outputId": "6be1f18b-3689-4022-8a45-b3852eb9593a"
      },
      "execution_count": null,
      "outputs": [
        {
          "output_type": "execute_result",
          "data": {
            "text/plain": [
              "array([1, 5, 1, 9])"
            ]
          },
          "metadata": {},
          "execution_count": 32
        }
      ]
    },
    {
      "cell_type": "code",
      "source": [
        "arr[[0,-1],[[0],[-1]]]"
      ],
      "metadata": {
        "colab": {
          "base_uri": "https://localhost:8080/"
        },
        "id": "XQog8xoEU0Zu",
        "outputId": "45e5aa2b-3fdd-4a1a-bd8c-ed9df71275bf"
      },
      "execution_count": null,
      "outputs": [
        {
          "output_type": "execute_result",
          "data": {
            "text/plain": [
              "array([[1, 1],\n",
              "       [5, 9]])"
            ]
          },
          "metadata": {},
          "execution_count": 33
        }
      ]
    },
    {
      "cell_type": "code",
      "source": [
        "arr = np.array([[1,2,3,4,5],[6,7,8,9,10],[10,0,1,100,8]])\n",
        "arr[[0,-1],[[0],[-1]]]"
      ],
      "metadata": {
        "colab": {
          "base_uri": "https://localhost:8080/"
        },
        "id": "iJvuPjiQVJko",
        "outputId": "3ad3183d-e27b-4477-8e10-633a2f6c92a0"
      },
      "execution_count": null,
      "outputs": [
        {
          "output_type": "execute_result",
          "data": {
            "text/plain": [
              "array([[ 1, 10],\n",
              "       [ 5,  8]])"
            ]
          },
          "metadata": {},
          "execution_count": 34
        }
      ]
    },
    {
      "cell_type": "markdown",
      "source": [
        "# Special arrays"
      ],
      "metadata": {
        "id": "_ArmZrK-VNJT"
      }
    },
    {
      "cell_type": "markdown",
      "source": [
        "# Zeros"
      ],
      "metadata": {
        "id": "R2OXtigaVTJx"
      }
    },
    {
      "cell_type": "code",
      "source": [
        "np.zeros((3))"
      ],
      "metadata": {
        "colab": {
          "base_uri": "https://localhost:8080/"
        },
        "id": "s0AlX3JyVYka",
        "outputId": "386d98e7-4b9d-4db4-c865-e2e73f28e548"
      },
      "execution_count": null,
      "outputs": [
        {
          "output_type": "execute_result",
          "data": {
            "text/plain": [
              "array([0., 0., 0.])"
            ]
          },
          "metadata": {},
          "execution_count": 35
        }
      ]
    },
    {
      "cell_type": "code",
      "source": [
        "np.zeros((3,3), dtype='i')"
      ],
      "metadata": {
        "colab": {
          "base_uri": "https://localhost:8080/"
        },
        "id": "m8pIIXC-VemO",
        "outputId": "e6c1946e-0fcc-467d-f139-ed206bc2888a"
      },
      "execution_count": null,
      "outputs": [
        {
          "output_type": "execute_result",
          "data": {
            "text/plain": [
              "array([[0, 0, 0],\n",
              "       [0, 0, 0],\n",
              "       [0, 0, 0]], dtype=int32)"
            ]
          },
          "metadata": {},
          "execution_count": 36
        }
      ]
    },
    {
      "cell_type": "markdown",
      "source": [
        "# Ones"
      ],
      "metadata": {
        "id": "A-UuMACkVo5s"
      }
    },
    {
      "cell_type": "code",
      "source": [
        "np.ones((4,4))"
      ],
      "metadata": {
        "colab": {
          "base_uri": "https://localhost:8080/"
        },
        "id": "Wip_Mom_VtdQ",
        "outputId": "8db4601d-cdfa-4ece-ea57-26a317e46b9d"
      },
      "execution_count": null,
      "outputs": [
        {
          "output_type": "execute_result",
          "data": {
            "text/plain": [
              "array([[1., 1., 1., 1.],\n",
              "       [1., 1., 1., 1.],\n",
              "       [1., 1., 1., 1.],\n",
              "       [1., 1., 1., 1.]])"
            ]
          },
          "metadata": {},
          "execution_count": 37
        }
      ]
    },
    {
      "cell_type": "markdown",
      "source": [
        "# eye: identity array"
      ],
      "metadata": {
        "id": "cTSuN1qSVzTS"
      }
    },
    {
      "cell_type": "code",
      "source": [
        "np.eye(4)"
      ],
      "metadata": {
        "colab": {
          "base_uri": "https://localhost:8080/"
        },
        "id": "p7le6DhNV7ZS",
        "outputId": "b9980226-de8c-414a-b294-38d4ab097821"
      },
      "execution_count": null,
      "outputs": [
        {
          "output_type": "execute_result",
          "data": {
            "text/plain": [
              "array([[1., 0., 0., 0.],\n",
              "       [0., 1., 0., 0.],\n",
              "       [0., 0., 1., 0.],\n",
              "       [0., 0., 0., 1.]])"
            ]
          },
          "metadata": {},
          "execution_count": 38
        }
      ]
    },
    {
      "cell_type": "code",
      "source": [
        "np.eye(4,3)"
      ],
      "metadata": {
        "colab": {
          "base_uri": "https://localhost:8080/"
        },
        "id": "A5L0LOmtV-Uy",
        "outputId": "52aa33cc-4031-4016-a715-4931a5061d5b"
      },
      "execution_count": null,
      "outputs": [
        {
          "output_type": "execute_result",
          "data": {
            "text/plain": [
              "array([[1., 0., 0.],\n",
              "       [0., 1., 0.],\n",
              "       [0., 0., 1.],\n",
              "       [0., 0., 0.]])"
            ]
          },
          "metadata": {},
          "execution_count": 40
        }
      ]
    },
    {
      "cell_type": "markdown",
      "source": [
        "# full()"
      ],
      "metadata": {
        "id": "AvFIyiW7WJPs"
      }
    },
    {
      "cell_type": "code",
      "source": [
        "np.full((3,3),5)"
      ],
      "metadata": {
        "colab": {
          "base_uri": "https://localhost:8080/"
        },
        "id": "-wkDmfZgWMhz",
        "outputId": "a71067e2-364a-4007-d5ad-e5ecfc91855f"
      },
      "execution_count": null,
      "outputs": [
        {
          "output_type": "execute_result",
          "data": {
            "text/plain": [
              "array([[5, 5, 5],\n",
              "       [5, 5, 5],\n",
              "       [5, 5, 5]])"
            ]
          },
          "metadata": {},
          "execution_count": 41
        }
      ]
    },
    {
      "cell_type": "markdown",
      "source": [
        "# Array operation"
      ],
      "metadata": {
        "id": "_i7y_SXwWQZg"
      }
    },
    {
      "cell_type": "code",
      "source": [
        "arr = np.array([[1,2,3,4,5],[5,6,7,8,9]])\n",
        "arr"
      ],
      "metadata": {
        "colab": {
          "base_uri": "https://localhost:8080/"
        },
        "id": "N2fOgmx7WXs-",
        "outputId": "b2a6a01f-f67e-4197-8f0e-9576b64321fb"
      },
      "execution_count": null,
      "outputs": [
        {
          "output_type": "execute_result",
          "data": {
            "text/plain": [
              "array([[1, 2, 3, 4, 5],\n",
              "       [5, 6, 7, 8, 9]])"
            ]
          },
          "metadata": {},
          "execution_count": 42
        }
      ]
    },
    {
      "cell_type": "code",
      "source": [
        "arr+2"
      ],
      "metadata": {
        "colab": {
          "base_uri": "https://localhost:8080/"
        },
        "id": "ffe2XsTsWg5y",
        "outputId": "87b5b89e-249d-4947-c379-60bab274f1be"
      },
      "execution_count": null,
      "outputs": [
        {
          "output_type": "execute_result",
          "data": {
            "text/plain": [
              "array([[ 3,  4,  5,  6,  7],\n",
              "       [ 7,  8,  9, 10, 11]])"
            ]
          },
          "metadata": {},
          "execution_count": 43
        }
      ]
    },
    {
      "cell_type": "code",
      "source": [
        "arr**2"
      ],
      "metadata": {
        "colab": {
          "base_uri": "https://localhost:8080/"
        },
        "id": "vpMuILQEWi1J",
        "outputId": "0052d7ba-1de1-415e-a97b-e236eb0a3a7c"
      },
      "execution_count": null,
      "outputs": [
        {
          "output_type": "execute_result",
          "data": {
            "text/plain": [
              "array([[ 1,  4,  9, 16, 25],\n",
              "       [25, 36, 49, 64, 81]])"
            ]
          },
          "metadata": {},
          "execution_count": 44
        }
      ]
    },
    {
      "cell_type": "code",
      "source": [
        "arr%3"
      ],
      "metadata": {
        "colab": {
          "base_uri": "https://localhost:8080/"
        },
        "id": "h5q05qgNWlIm",
        "outputId": "4c992e7e-cb3d-4219-9e1b-0b40b1f1220a"
      },
      "execution_count": null,
      "outputs": [
        {
          "output_type": "execute_result",
          "data": {
            "text/plain": [
              "array([[1, 2, 0, 1, 2],\n",
              "       [2, 0, 1, 2, 0]])"
            ]
          },
          "metadata": {},
          "execution_count": 45
        }
      ]
    },
    {
      "cell_type": "markdown",
      "source": [
        "# Random Array Generation"
      ],
      "metadata": {
        "id": "vOBBgOhqWnFC"
      }
    },
    {
      "cell_type": "code",
      "source": [
        "import numpy as np"
      ],
      "metadata": {
        "id": "CGRceg5ncUpc"
      },
      "execution_count": null,
      "outputs": []
    },
    {
      "cell_type": "markdown",
      "source": [
        "#rand()"
      ],
      "metadata": {
        "id": "dV-Y37-Migi9"
      }
    },
    {
      "cell_type": "code",
      "source": [
        "# randomly generated number between 0 to 1\n",
        "np.random.rand()"
      ],
      "metadata": {
        "colab": {
          "base_uri": "https://localhost:8080/"
        },
        "id": "iISpkVxQbf4y",
        "outputId": "bc545f74-5840-4673-d1ac-824849a2668f"
      },
      "execution_count": null,
      "outputs": [
        {
          "output_type": "execute_result",
          "data": {
            "text/plain": [
              "0.9937033356283637"
            ]
          },
          "metadata": {},
          "execution_count": 3
        }
      ]
    },
    {
      "cell_type": "code",
      "source": [
        "np.random.rand(3)"
      ],
      "metadata": {
        "colab": {
          "base_uri": "https://localhost:8080/"
        },
        "id": "yw1AP_yMcSGI",
        "outputId": "9133851b-aa0a-4a05-b058-a7b5facc8a87"
      },
      "execution_count": null,
      "outputs": [
        {
          "output_type": "execute_result",
          "data": {
            "text/plain": [
              "array([0.11241893, 0.92287401, 0.25075291])"
            ]
          },
          "metadata": {},
          "execution_count": 4
        }
      ]
    },
    {
      "cell_type": "code",
      "source": [
        "np.random.rand(3,2)"
      ],
      "metadata": {
        "colab": {
          "base_uri": "https://localhost:8080/"
        },
        "id": "ubPaFdnmcfd0",
        "outputId": "5dd45889-dc6d-4c0c-faad-1a395849cfcc"
      },
      "execution_count": null,
      "outputs": [
        {
          "output_type": "execute_result",
          "data": {
            "text/plain": [
              "array([[0.82046089, 0.47054637],\n",
              "       [0.45873211, 0.15699998],\n",
              "       [0.57404832, 0.78478387]])"
            ]
          },
          "metadata": {},
          "execution_count": 5
        }
      ]
    },
    {
      "cell_type": "markdown",
      "source": [
        "#randn()"
      ],
      "metadata": {
        "id": "xdvkXbj9NBU8"
      }
    },
    {
      "cell_type": "code",
      "source": [
        "# normal data distribution\n",
        "normal_data= np.random.randn(10)\n",
        "normal_data"
      ],
      "metadata": {
        "colab": {
          "base_uri": "https://localhost:8080/"
        },
        "id": "-XgakzhnczX9",
        "outputId": "f79eb8e6-5ff2-48e5-a305-e2edffe5f575"
      },
      "execution_count": null,
      "outputs": [
        {
          "output_type": "execute_result",
          "data": {
            "text/plain": [
              "array([-1.5566738 , -0.77855703, -0.19962352,  0.18922977,  1.99330556,\n",
              "       -2.16235613,  0.89273461,  2.37891671,  0.7981779 , -0.91656508])"
            ]
          },
          "metadata": {},
          "execution_count": 6
        }
      ]
    },
    {
      "cell_type": "markdown",
      "source": [
        "#randint()"
      ],
      "metadata": {
        "id": "k8t4RSQgdQII"
      }
    },
    {
      "cell_type": "code",
      "source": [
        "np.random.randint(10,20)"
      ],
      "metadata": {
        "colab": {
          "base_uri": "https://localhost:8080/"
        },
        "id": "hEBXjtT_NOAB",
        "outputId": "59c172d9-160a-4c71-d09e-f61aa39b4d77"
      },
      "execution_count": null,
      "outputs": [
        {
          "output_type": "execute_result",
          "data": {
            "text/plain": [
              "18"
            ]
          },
          "metadata": {},
          "execution_count": 7
        }
      ]
    },
    {
      "cell_type": "code",
      "source": [
        "np.random.randint(10,20,(3,3))"
      ],
      "metadata": {
        "colab": {
          "base_uri": "https://localhost:8080/"
        },
        "id": "6GW-6xMiNTHs",
        "outputId": "c7656774-7cf4-4489-ee4f-6607d57a98d3"
      },
      "execution_count": null,
      "outputs": [
        {
          "output_type": "execute_result",
          "data": {
            "text/plain": [
              "array([[13, 18, 10],\n",
              "       [16, 12, 13],\n",
              "       [15, 10, 10]])"
            ]
          },
          "metadata": {},
          "execution_count": 8
        }
      ]
    },
    {
      "cell_type": "code",
      "source": [
        "np.random.randint(10,20,(3,3,2))"
      ],
      "metadata": {
        "colab": {
          "base_uri": "https://localhost:8080/"
        },
        "id": "RCxkTpd7NlOC",
        "outputId": "27194d36-04e4-4946-dd46-3b2849f4c77f"
      },
      "execution_count": null,
      "outputs": [
        {
          "output_type": "execute_result",
          "data": {
            "text/plain": [
              "array([[[11, 15],\n",
              "        [16, 16],\n",
              "        [14, 12]],\n",
              "\n",
              "       [[11, 15],\n",
              "        [10, 12],\n",
              "        [16, 10]],\n",
              "\n",
              "       [[19, 12],\n",
              "        [15, 13],\n",
              "        [15, 14]]])"
            ]
          },
          "metadata": {},
          "execution_count": 9
        }
      ]
    },
    {
      "cell_type": "markdown",
      "source": [
        "# How to repreduce the same array again"
      ],
      "metadata": {
        "id": "BQ1HdPYQNsNZ"
      }
    },
    {
      "cell_type": "markdown",
      "source": [
        "#seed()"
      ],
      "metadata": {
        "id": "T1hoHvP4ODSu"
      }
    },
    {
      "cell_type": "code",
      "source": [
        "np.random.seed(41)\n",
        "np.random.randint(10,20,(3,3))"
      ],
      "metadata": {
        "colab": {
          "base_uri": "https://localhost:8080/"
        },
        "id": "KVE335SNOIey",
        "outputId": "aece83ad-a1f6-4e1b-ee55-3354af14d7f1"
      },
      "execution_count": null,
      "outputs": [
        {
          "output_type": "execute_result",
          "data": {
            "text/plain": [
              "array([[10, 13, 12],\n",
              "       [10, 11, 13],\n",
              "       [19, 17, 15]])"
            ]
          },
          "metadata": {},
          "execution_count": 11
        }
      ]
    },
    {
      "cell_type": "code",
      "source": [
        "np.random.seed(7366425)\n",
        "np.random.randint(10,20,(3,3))"
      ],
      "metadata": {
        "colab": {
          "base_uri": "https://localhost:8080/"
        },
        "id": "5ljEBydAOWKG",
        "outputId": "5a6d67a2-e651-4079-86b7-b3141ec5eb49"
      },
      "execution_count": null,
      "outputs": [
        {
          "output_type": "execute_result",
          "data": {
            "text/plain": [
              "array([[10, 19, 17],\n",
              "       [11, 14, 12],\n",
              "       [14, 18, 16]])"
            ]
          },
          "metadata": {},
          "execution_count": 12
        }
      ]
    },
    {
      "cell_type": "markdown",
      "source": [
        "#shuffle()"
      ],
      "metadata": {
        "id": "lkK9cZZROlXN"
      }
    },
    {
      "cell_type": "code",
      "source": [
        "arr=np.array([1,2,3,4,5])\n",
        "np.random.shuffle(arr)\n",
        "print(arr)"
      ],
      "metadata": {
        "colab": {
          "base_uri": "https://localhost:8080/"
        },
        "id": "vqo3MeTgOrZq",
        "outputId": "02bb2d50-a688-4f00-b09f-7bc963a6f058"
      },
      "execution_count": null,
      "outputs": [
        {
          "output_type": "stream",
          "name": "stdout",
          "text": [
            "[2 3 1 4 5]\n"
          ]
        }
      ]
    },
    {
      "cell_type": "markdown",
      "source": [
        "#choice()"
      ],
      "metadata": {
        "id": "f5l1DchMO5_S"
      }
    },
    {
      "cell_type": "markdown",
      "source": [
        "# Random Sampling with Replacement"
      ],
      "metadata": {
        "id": "1rFdeZItO-bN"
      }
    },
    {
      "cell_type": "code",
      "source": [
        "np.random.choice([10,20,89,100,101,0,1,6])"
      ],
      "metadata": {
        "colab": {
          "base_uri": "https://localhost:8080/"
        },
        "id": "8gcWlbJYPGGj",
        "outputId": "7b3d2c0f-b169-4c8c-82a6-58d413e39e44"
      },
      "execution_count": null,
      "outputs": [
        {
          "output_type": "execute_result",
          "data": {
            "text/plain": [
              "np.int64(0)"
            ]
          },
          "metadata": {},
          "execution_count": 14
        }
      ]
    },
    {
      "cell_type": "code",
      "source": [
        "np.random.choice([10,20,89,100,101,0,1,6],\n",
        "p=[0.1,0.1,0.1,0.1,0.1,0.1,0.1,0.3],size=(8,8),replace=True)"
      ],
      "metadata": {
        "colab": {
          "base_uri": "https://localhost:8080/"
        },
        "id": "1Xg7XIg9PR5B",
        "outputId": "b986cd7e-288c-4bef-db36-5e5dd191458b"
      },
      "execution_count": null,
      "outputs": [
        {
          "output_type": "execute_result",
          "data": {
            "text/plain": [
              "array([[ 89,   6, 101,   6,   0,  10,   6,   6],\n",
              "       [  1,  10,  89,  10, 101, 101,  89, 100],\n",
              "       [  6,   1,  10,   6,  89, 101,   6,   6],\n",
              "       [ 10, 100,   1,   6,   1,  10,  20,   0],\n",
              "       [  6,   6,  89,   6, 101,  10, 100,  10],\n",
              "       [  0,  20,   6,   6,   1,   6,  89,   1],\n",
              "       [  6,  20,   1,   1, 101,   6,   1,   6],\n",
              "       [ 89,   6,  10,   6,   6,   0,   0,  10]])"
            ]
          },
          "metadata": {},
          "execution_count": 17
        }
      ]
    },
    {
      "cell_type": "markdown",
      "source": [
        "# Example of Rolling Dice"
      ],
      "metadata": {
        "id": "cXyF-UVOQVlW"
      }
    },
    {
      "cell_type": "code",
      "source": [
        "# 1 to 6\n",
        "np.random.choice([1,2,3,4,5,6],size=1)"
      ],
      "metadata": {
        "colab": {
          "base_uri": "https://localhost:8080/"
        },
        "id": "rpjFd5oEQs3C",
        "outputId": "dd9bd1ce-2b5c-46f3-e979-08b30ee6617f"
      },
      "execution_count": null,
      "outputs": [
        {
          "output_type": "execute_result",
          "data": {
            "text/plain": [
              "array([1])"
            ]
          },
          "metadata": {},
          "execution_count": 19
        }
      ]
    },
    {
      "cell_type": "markdown",
      "source": [
        "#choice with boolean values"
      ],
      "metadata": {
        "id": "wdnD4eOERC99"
      }
    },
    {
      "cell_type": "code",
      "source": [
        "np.random.choice([True,False],size=(2,2))"
      ],
      "metadata": {
        "colab": {
          "base_uri": "https://localhost:8080/"
        },
        "id": "-KcgRsblRU9H",
        "outputId": "685cd422-53b8-44db-d26f-1c7ef0a2a242"
      },
      "execution_count": null,
      "outputs": [
        {
          "output_type": "execute_result",
          "data": {
            "text/plain": [
              "array([[False,  True],\n",
              "       [ True, False]])"
            ]
          },
          "metadata": {},
          "execution_count": 20
        }
      ]
    },
    {
      "cell_type": "markdown",
      "source": [
        "# Data Alalysis Functions"
      ],
      "metadata": {
        "id": "NLpNoavmRoEi"
      }
    },
    {
      "cell_type": "code",
      "source": [
        "np.random.seed(10)\n",
        "arr=np.random.randint(10,30,(4,4))\n",
        "arr"
      ],
      "metadata": {
        "colab": {
          "base_uri": "https://localhost:8080/"
        },
        "id": "A1RQaT7WR2kJ",
        "outputId": "783049d3-34ad-4d39-8ebe-4dd033678025"
      },
      "execution_count": null,
      "outputs": [
        {
          "output_type": "execute_result",
          "data": {
            "text/plain": [
              "array([[19, 14, 25, 10],\n",
              "       [27, 26, 27, 18],\n",
              "       [19, 10, 20, 18],\n",
              "       [14, 29, 26, 14]])"
            ]
          },
          "metadata": {},
          "execution_count": 21
        }
      ]
    },
    {
      "cell_type": "markdown",
      "source": [
        "#uniqe()"
      ],
      "metadata": {
        "id": "QWAOg8wmSKoS"
      }
    },
    {
      "cell_type": "code",
      "source": [
        "np.unique(arr)"
      ],
      "metadata": {
        "colab": {
          "base_uri": "https://localhost:8080/"
        },
        "id": "mfWrSKxnSawQ",
        "outputId": "04883e13-b227-414c-ad21-af987b08677a"
      },
      "execution_count": null,
      "outputs": [
        {
          "output_type": "execute_result",
          "data": {
            "text/plain": [
              "array([10, 14, 18, 19, 20, 25, 26, 27, 29])"
            ]
          },
          "metadata": {},
          "execution_count": 22
        }
      ]
    },
    {
      "cell_type": "markdown",
      "source": [
        "#sort()"
      ],
      "metadata": {
        "id": "gD1eWxXxSkVe"
      }
    },
    {
      "cell_type": "code",
      "source": [
        "np.sort(arr,axis=1)  # moving along the column"
      ],
      "metadata": {
        "colab": {
          "base_uri": "https://localhost:8080/"
        },
        "id": "LPVoJTbQSoNE",
        "outputId": "aad2ebf9-c8e0-4394-fecd-dcc193356c57"
      },
      "execution_count": null,
      "outputs": [
        {
          "output_type": "execute_result",
          "data": {
            "text/plain": [
              "array([[10, 14, 19, 25],\n",
              "       [18, 26, 27, 27],\n",
              "       [10, 18, 19, 20],\n",
              "       [14, 14, 26, 29]])"
            ]
          },
          "metadata": {},
          "execution_count": 23
        }
      ]
    },
    {
      "cell_type": "code",
      "source": [
        "np.sort(arr,axis=0)  # moving along the row"
      ],
      "metadata": {
        "colab": {
          "base_uri": "https://localhost:8080/"
        },
        "id": "7_NKxGIBSzym",
        "outputId": "70af0023-ad6c-48d4-90ac-7342f515c52d"
      },
      "execution_count": null,
      "outputs": [
        {
          "output_type": "execute_result",
          "data": {
            "text/plain": [
              "array([[14, 10, 20, 10],\n",
              "       [19, 14, 25, 14],\n",
              "       [19, 26, 26, 18],\n",
              "       [27, 29, 27, 18]])"
            ]
          },
          "metadata": {},
          "execution_count": 24
        }
      ]
    },
    {
      "cell_type": "code",
      "source": [
        "np.sort(arr, axis=None)   # sorts the entire array element by element and fives a flattened output"
      ],
      "metadata": {
        "colab": {
          "base_uri": "https://localhost:8080/"
        },
        "id": "ZHo6lHK8S-Xs",
        "outputId": "fb59f806-ae28-4e18-a3fe-e0c2a26c8988"
      },
      "execution_count": null,
      "outputs": [
        {
          "output_type": "execute_result",
          "data": {
            "text/plain": [
              "array([10, 10, 14, 14, 14, 18, 18, 19, 19, 20, 25, 26, 26, 27, 27, 29])"
            ]
          },
          "metadata": {},
          "execution_count": 25
        }
      ]
    },
    {
      "cell_type": "markdown",
      "source": [
        "# where()"
      ],
      "metadata": {
        "id": "5pAwDWLETRlK"
      }
    },
    {
      "cell_type": "code",
      "source": [
        "arr"
      ],
      "metadata": {
        "colab": {
          "base_uri": "https://localhost:8080/"
        },
        "id": "1oqmPcLQTUYU",
        "outputId": "2f45560c-39d5-4989-9035-04e38f51c32f"
      },
      "execution_count": null,
      "outputs": [
        {
          "output_type": "execute_result",
          "data": {
            "text/plain": [
              "array([[19, 14, 25, 10],\n",
              "       [27, 26, 27, 18],\n",
              "       [19, 10, 20, 18],\n",
              "       [14, 29, 26, 14]])"
            ]
          },
          "metadata": {},
          "execution_count": 26
        }
      ]
    },
    {
      "cell_type": "code",
      "source": [
        "arr>20"
      ],
      "metadata": {
        "colab": {
          "base_uri": "https://localhost:8080/"
        },
        "id": "uFbUhB6aTVn_",
        "outputId": "586ce13c-3f1f-40d0-e3d6-c8c779e042ae"
      },
      "execution_count": null,
      "outputs": [
        {
          "output_type": "execute_result",
          "data": {
            "text/plain": [
              "array([[False, False,  True, False],\n",
              "       [ True,  True,  True, False],\n",
              "       [False, False, False, False],\n",
              "       [False,  True,  True, False]])"
            ]
          },
          "metadata": {},
          "execution_count": 27
        }
      ]
    },
    {
      "cell_type": "code",
      "source": [
        "true_indexes=np.where(arr>20)\n",
        "true_indexes"
      ],
      "metadata": {
        "colab": {
          "base_uri": "https://localhost:8080/"
        },
        "id": "zsn9XpYbTXf0",
        "outputId": "9d5c79ea-9e5c-4514-8c86-250f10d3e921"
      },
      "execution_count": null,
      "outputs": [
        {
          "output_type": "execute_result",
          "data": {
            "text/plain": [
              "(array([0, 1, 1, 1, 3, 3]), array([2, 0, 1, 2, 1, 2]))"
            ]
          },
          "metadata": {},
          "execution_count": 28
        }
      ]
    },
    {
      "cell_type": "code",
      "source": [
        "arr[true_indexes]"
      ],
      "metadata": {
        "colab": {
          "base_uri": "https://localhost:8080/"
        },
        "id": "Cmn4sWNvTlKB",
        "outputId": "895ba719-5192-49a5-c57a-6140dcbca3f8"
      },
      "execution_count": null,
      "outputs": [
        {
          "output_type": "execute_result",
          "data": {
            "text/plain": [
              "array([25, 27, 26, 27, 29, 26])"
            ]
          },
          "metadata": {},
          "execution_count": 29
        }
      ]
    },
    {
      "cell_type": "markdown",
      "source": [
        "#mean()"
      ],
      "metadata": {
        "id": "x6mcW3r3Tp0_"
      }
    },
    {
      "cell_type": "code",
      "source": [
        "arr"
      ],
      "metadata": {
        "colab": {
          "base_uri": "https://localhost:8080/"
        },
        "id": "KzmtNnlwTu84",
        "outputId": "1e7c0c13-990a-40e3-b96e-a7c93acdd68e"
      },
      "execution_count": null,
      "outputs": [
        {
          "output_type": "execute_result",
          "data": {
            "text/plain": [
              "array([[19, 14, 25, 10],\n",
              "       [27, 26, 27, 18],\n",
              "       [19, 10, 20, 18],\n",
              "       [14, 29, 26, 14]])"
            ]
          },
          "metadata": {},
          "execution_count": 30
        }
      ]
    },
    {
      "cell_type": "code",
      "source": [
        "arr.mean()"
      ],
      "metadata": {
        "colab": {
          "base_uri": "https://localhost:8080/"
        },
        "id": "4wAUbpJITwG_",
        "outputId": "398e77c5-6218-4043-d4ed-1b8d45237477"
      },
      "execution_count": null,
      "outputs": [
        {
          "output_type": "execute_result",
          "data": {
            "text/plain": [
              "np.float64(19.75)"
            ]
          },
          "metadata": {},
          "execution_count": 31
        }
      ]
    },
    {
      "cell_type": "code",
      "source": [
        "arr.mean(axis=1)"
      ],
      "metadata": {
        "colab": {
          "base_uri": "https://localhost:8080/"
        },
        "id": "tfb7D2z9T0a0",
        "outputId": "85134d35-f14c-43b7-ac33-27cdef4ec308"
      },
      "execution_count": null,
      "outputs": [
        {
          "output_type": "execute_result",
          "data": {
            "text/plain": [
              "array([17.  , 24.5 , 16.75, 20.75])"
            ]
          },
          "metadata": {},
          "execution_count": 32
        }
      ]
    },
    {
      "cell_type": "code",
      "source": [
        "arr.mean(axis=0)"
      ],
      "metadata": {
        "colab": {
          "base_uri": "https://localhost:8080/"
        },
        "id": "dRCrvPFfT4ag",
        "outputId": "8da205f4-f079-419a-c2c9-84aa6f713b26"
      },
      "execution_count": null,
      "outputs": [
        {
          "output_type": "execute_result",
          "data": {
            "text/plain": [
              "array([19.75, 19.75, 24.5 , 15.  ])"
            ]
          },
          "metadata": {},
          "execution_count": 33
        }
      ]
    },
    {
      "cell_type": "markdown",
      "source": [
        "# median()"
      ],
      "metadata": {
        "id": "1f_U0LQ4T8BR"
      }
    },
    {
      "cell_type": "code",
      "source": [
        "# median is the mid value in the sorted data\n",
        "# for even number of count, mid is calculated by taking the average of mid two values"
      ],
      "metadata": {
        "id": "vnDhOr0XUFzc"
      },
      "execution_count": null,
      "outputs": []
    },
    {
      "cell_type": "code",
      "source": [
        "arr"
      ],
      "metadata": {
        "colab": {
          "base_uri": "https://localhost:8080/"
        },
        "id": "Yp8tDbMIUUps",
        "outputId": "1c5dc905-03ad-4f32-b00a-56866174325a"
      },
      "execution_count": null,
      "outputs": [
        {
          "output_type": "execute_result",
          "data": {
            "text/plain": [
              "array([[19, 14, 25, 10],\n",
              "       [27, 26, 27, 18],\n",
              "       [19, 10, 20, 18],\n",
              "       [14, 29, 26, 14]])"
            ]
          },
          "metadata": {},
          "execution_count": 36
        }
      ]
    },
    {
      "cell_type": "code",
      "source": [
        "np.median(arr)"
      ],
      "metadata": {
        "colab": {
          "base_uri": "https://localhost:8080/"
        },
        "id": "AMA370hzUbe1",
        "outputId": "456fca99-d6d5-498e-f29d-126ab4cf6a8e"
      },
      "execution_count": null,
      "outputs": [
        {
          "output_type": "execute_result",
          "data": {
            "text/plain": [
              "np.float64(19.0)"
            ]
          },
          "metadata": {},
          "execution_count": 37
        }
      ]
    },
    {
      "cell_type": "markdown",
      "source": [
        "# Standard Deviation"
      ],
      "metadata": {
        "id": "SO-vA3IEUgPx"
      }
    },
    {
      "cell_type": "code",
      "source": [
        "np.std(arr)"
      ],
      "metadata": {
        "colab": {
          "base_uri": "https://localhost:8080/"
        },
        "id": "HORCV_rbUm45",
        "outputId": "a52433a6-b6e6-4bcb-ff74-d29f8defbe71"
      },
      "execution_count": null,
      "outputs": [
        {
          "output_type": "execute_result",
          "data": {
            "text/plain": [
              "np.float64(6.0878978309429606)"
            ]
          },
          "metadata": {},
          "execution_count": 38
        }
      ]
    },
    {
      "cell_type": "code",
      "source": [
        "19.75-2*6 , 19.75+2*6"
      ],
      "metadata": {
        "colab": {
          "base_uri": "https://localhost:8080/"
        },
        "id": "HO0b3EqEUpan",
        "outputId": "624a5062-d52e-4265-d3ef-5a92e95a0bea"
      },
      "execution_count": null,
      "outputs": [
        {
          "output_type": "execute_result",
          "data": {
            "text/plain": [
              "(7.75, 31.75)"
            ]
          },
          "metadata": {},
          "execution_count": 39
        }
      ]
    },
    {
      "cell_type": "markdown",
      "source": [
        "# Reshaping & Combining"
      ],
      "metadata": {
        "id": "QR0xGsd8U1PW"
      }
    }
  ]
}